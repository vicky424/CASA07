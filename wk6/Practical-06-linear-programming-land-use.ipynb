{
 "cells": [
  {
   "cell_type": "markdown",
   "metadata": {},
   "source": [
    "<div style=\"float:left\">\n",
    "            <h1 style=\"width:450px\">CASA0007 Practical 6: Linear Programming - Land use planning</h1>\n",
    "</div>\n",
    "<div style=\"float:right\"><img width=\"100\" src=\"https://github.com/jreades/i2p/raw/master/img/casa_logo.jpg\" /></div>"
   ]
  },
  {
   "cell_type": "markdown",
   "metadata": {},
   "source": [
    "Welcome!\n",
    "\n",
    "In this practical, we will apply the linear programming techniques to solve a land use planning problem."
   ]
  },
  {
   "cell_type": "markdown",
   "metadata": {},
   "source": [
    "Let's solve the land use transformation problem using Python.\n",
    "\n",
    "The method is similar with the CASA merchandising problem, so you should look at that example first.\n",
    "\n",
    "We'll need the scipy.optimize package. The documentation is [here](https://docs.scipy.org/doc/scipy/reference/generated/scipy.optimize.linprog.html)."
   ]
  },
  {
   "cell_type": "code",
   "execution_count": 1,
   "metadata": {},
   "outputs": [],
   "source": [
    "import scipy.optimize as spo"
   ]
  },
  {
   "cell_type": "markdown",
   "metadata": {},
   "source": [
    "#### This is the problem we are trying to solve...\n",
    "\n",
    "![farm_land](https://github.com/huanfachen/Quantitative_Methods_CASA0007/blob/main/images/geograph-2132256-by-Richard-Croft.jpg?raw=true)\n",
    "\n",
    "An area of land is available for reclassification. 8650 ha of the land is forest (F), 3875 is rainfed cropland (R), and 1375 ha is irrigated cropland (I). Land may be reclassified as one of these types or as urban land (U).\n",
    "\n",
    "Hectare (or 'ha') is a non-SI metric unit of area equal to a square with 100-metre sides, or 10,000 $m^2$.\n",
    "\n",
    "The table of acronyms is as follows:\n",
    "\n",
    "| Land use type      | Acronym |\n",
    "| ------------------ | ------- |\n",
    "| forest             | F       |\n",
    "| rainfed cropland   | R       |\n",
    "| irrigated cropland | I       |\n",
    "| urban land         | U       |\n",
    "\n",
    "A budget of 25000 pesetas is available for transforming the land. The costs in pesetas to transform an area of 10 ha are as follows:\n",
    "\n",
    "\n",
    "| From / To |    F |    R |     I |      U |\n",
    "| --------: | ---: | ---: | ----: | -----: |\n",
    "|         F |   NA | 7.20 |  51.2 | 750.00 |\n",
    "|         R | 1.80 |   NA | 16.20 | 625.00 |\n",
    "|         I |   NA |   NA |    NA | 625.00 |\n",
    "\n",
    "Transformations marked with 'NA' are not possible.\n",
    "\n",
    "Not all the existing land is suitable for transformation to all other types.\n",
    "\n",
    "- 21 ha of forest land and 219 ha of rainfed cropland are suitable for tranformation to irrigated cropland.\n",
    "- 369 ha of forest, 882 ha of rainfed cropland and 205 ha of irrigated cropland are suitable for transformation to urban land.\n",
    "\n",
    "Additionally, for environmental reasons, at least 75% of existing forest land must be preserved.\n",
    "\n",
    "The principal objective of the reclassification programme is to create jobs:\n",
    "\n",
    "- 10 ha of forest supports 0.017 jobs;\n",
    "- 10 ha of rainfed cropland supports 0.5 jobs;\n",
    "- 10 ha of irrigated cropland supports 2 jobs;\n",
    "- 10 ha of urban land supports 18 jobs.\n",
    "\n",
    "How should the land be reallocated to maximise employment?\n",
    "\n",
    "(Adapted from Chuvieco, E. (1993), 'Integration of linear programming and GIS for land-use modelling')"
   ]
  },
  {
   "cell_type": "markdown",
   "metadata": {},
   "source": [
    "#### And here is the problem written as a linear program:\n",
    "\n",
    "Maximise:  \n",
    "E = 0.017 FF + 0.5 FR + 2 FI + 18 FU + 0.017 RF + 0.5 RR + 2 RI + 18 RU + 2 II + 18 IU\n",
    "\n",
    "Subject to:  \n",
    "**A)** FF + FR + FI + FU = 865.00  \n",
    "**B)** RF + RR + RI + RU = 387.50  \n",
    "**C)** II + IU = 137.50  \n",
    "**D)** FU ≤ 36.90  \n",
    "**E)** RU ≤ 88.20  \n",
    "**F)** IU ≤ 20.50   \n",
    "**G)** FI ≤ 02.10  \n",
    "**H)** RI ≤ 21.90  \n",
    "**I)** FF ≥ 648.75  \n",
    "**J)** 7.2 FR +51.2 FI + 750 FU + 1.8 RF + 16.2 RI + 625 RU + 625 IU ≤ 25000  \n",
    "**K)** FF, FR, FI, FU, RF, RR, RI, RU, II, IU ≥ 0\n",
    "\n",
    "Where:  \n",
    "- XY = Number of 10 ha units of terrain type X converted to terrain type Y\n",
    "- XX = Number of 10 ha units of terrain type X kept as terrain type X\n",
    "- E = Employment (total jobs supported by all land after transformation)"
   ]
  },
  {
   "cell_type": "markdown",
   "metadata": {},
   "source": [
    "Some notes on the objective function - after re-classification, the amount of each terrain type is:\n",
    "- Forest: (FF + RF)\n",
    "- Irrigated cropland: (II + FI + RI)\n",
    "- Rainfed cropland: (RR + FR)\n",
    "- Urban: (FU + RU + IU)"
   ]
  },
  {
   "cell_type": "code",
   "execution_count": 2,
   "metadata": {},
   "outputs": [],
   "source": [
    "# First the coefficients of the objective function.\n",
    "# Note the order of the variables in the objective function and coefficients are:\n",
    "# FF, FR, FI, FU, RF, RR, RI, RU, IF, IR, II, IU\n",
    "# This order is not explicitly stated, but is used for objective function and constraints.\n",
    "# Since this is a MAXIMISATION problem, while Python expects a MINIMISATION, the objective coefficients change sign:\n",
    "\n",
    "# E = 0.017 FF + 0.5 FR + 2 FI + 18 FU + 0.017 RF + 0.5 RR + 2 RI + 18 RU + 2 II + 18 IU\n",
    "# Note the order of variables: FF, FR, FI, FU, RF, RR, RI, RU, II, IU\n",
    "objective_coeffs = [-0.017, -0.5, -2, -18, -0.017, -0.5, -2, -18, -2, -18]\n",
    "\n",
    "# Next the constraints.\n",
    "# We note that many of the constraints (including the non-negativity constraints)...\n",
    "# ... can be covered by setting upper and lower bounds on each variable as follows:\n",
    "\n",
    "FF_bounds = (648.75,None)\n",
    "FR_bounds = (0,None)\n",
    "FI_bounds = (0,2.10)\n",
    "FU_bounds = (0,36.90)\n",
    "RF_bounds = (0,None)\n",
    "RR_bounds = (0,None)\n",
    "RI_bounds = (0,21.90)\n",
    "RU_bounds = (0,88.20)\n",
    "II_bounds = (0,None)\n",
    "IU_bounds = (0,20.50)\n",
    "\n",
    "# It will be handy to collect all these bounds together in a tuple (like a list, but defined with round brackets):\n",
    "\n",
    "all_bounds = (FF_bounds,\n",
    "              FR_bounds,\n",
    "              FI_bounds,\n",
    "              FU_bounds,\n",
    "              RF_bounds,\n",
    "              RR_bounds,\n",
    "              RI_bounds,\n",
    "              RU_bounds,\n",
    "              II_bounds,\n",
    "              IU_bounds)\n",
    "\n",
    "# The only constraints that cannot be dealt with in this way...\n",
    "# ... (since they feature more than one decision variable) are A, B, C and J.\n",
    "\n",
    "# Note also that A, B and C are EQUALITY constraints, rather than INEQUALITY constraints.\n",
    "# These must be dealt with separately.\n",
    "\n",
    "# Here are the coefficients for the equality constraints (A, B, C) and the corresponding constants:\n",
    "# FF + FR + FI + FU = 865.00  \n",
    "# RF + RR + RI + RU = 387.50  \n",
    "# II + IU = 137.50 \n",
    "# Note the order of variables: FF, FR, FI, FU, RF, RR, RI, RU, II, IU\n",
    "# Zeros are used when a variable is not involved in a constraint\n",
    "\n",
    "eq_constraint_coeffs = [[1,1,1,1,0,0,0,0,0,0],  # FF+FR+FI+FU=865.00\n",
    "                        [0,0,0,0,1,1,1,1,0,0],  # RF+RR+RI+RU=387.50\n",
    "                        [0,0,0,0,0,0,0,0,1,1]]  # II+IU=137.50\n",
    "eq_constraint_consts = [865,387.5,137.5]\n",
    "\n",
    "# And here are the coefficients for the inequality constraint (J) and the corresponding constant:\n",
    "\n",
    "ineq_constraint_coeffs = [[0,7.2,51.2,750,1.8,0,16.2,625,0,625]]\n",
    "ineq_constraint_consts = [25000]  # A budget of 25000\n",
    "\n",
    "# Note that even though there is only one inequality constraint, these values are still presented in lists.\n",
    "\n",
    "# Make sure everything stays in the right order!"
   ]
  },
  {
   "cell_type": "code",
   "execution_count": 3,
   "metadata": {},
   "outputs": [
    {
     "name": "stdout",
     "output_type": "stream",
     "text": [
      "FF = 648.75\n",
      "FR = 214.14999999999998\n",
      "FI = 2.1\n",
      "FU = 0.0\n",
      "RF = 0.0\n",
      "RR = 328.806688\n",
      "RI = 21.9\n",
      "RU = 36.793312\n",
      "II = 137.5\n",
      "IU = 0.0\n",
      "\n",
      "E = 1267.78671\n",
      "Running HiGHS 1.2.0 [date: 2021-07-09, git hash: n/a]\n",
      "Copyright (c) 2022 ERGO-Code under MIT licence terms\n",
      "Presolving model\n",
      "3 rows, 9 cols, 15 nonzeros\n",
      "2 rows, 5 cols, 7 nonzeros\n",
      "Presolve : Reductions: rows 2(-2); columns 5(-5); elements 7(-10)\n",
      "Solving the presolved LP\n",
      "Using EKK dual simplex solver - serial\n",
      "  Iteration        Objective     Infeasibilities num(sum)\n",
      "          0    -2.2719874094e+00 Ph1: 2(5.9); Du: 2(2.27199) 0s\n",
      "          2    -1.2677867100e+03 Pr: 0(0) 0s\n",
      "Solving the original LP from the solution after postsolve\n",
      "Model   status      : Optimal\n",
      "Simplex   iterations: 2\n",
      "Objective value     : -1.2677867100e+03\n",
      "HiGHS run time      :          0.01\n"
     ]
    }
   ],
   "source": [
    "# Now we perform the optimisation:\n",
    "\n",
    "# shortcut of opening documentation in Jupyter lab: SHIFT + TAB\n",
    "results = spo.linprog(objective_coeffs, A_eq=eq_constraint_coeffs, b_eq=eq_constraint_consts, A_ub=ineq_constraint_coeffs, b_ub=ineq_constraint_consts, bounds=all_bounds,options={\"disp\": True})\n",
    "\n",
    "# And report the optimal value of each variable:\n",
    "FF,FR,FI,FU,RF,RR,RI,RU,II,IU = results['x']\n",
    "print(\"FF =\", FF)\n",
    "print(\"FR =\", FR)\n",
    "print(\"FI =\", FI)\n",
    "print(\"FU =\", FU)\n",
    "print(\"RF =\", RF)\n",
    "print(\"RR =\", RR)\n",
    "print(\"RI =\", RI)\n",
    "print(\"RU =\", RU)\n",
    "print(\"II =\", II)\n",
    "print(\"IU =\", IU)\n",
    "print()\n",
    "\n",
    "# And the optimal value of the objective function:\n",
    "E = -results['fun']\n",
    "print(\"E =\", E)\n"
   ]
  },
  {
   "cell_type": "code",
   "execution_count": 4,
   "metadata": {
    "scrolled": true
   },
   "outputs": [
    {
     "name": "stdout",
     "output_type": "stream",
     "text": [
      "The optimal reclassification plan is to transform:\n",
      "* 2142 ha of forest to rainfed cropland, 21 ha to irrigated cropland, and 0 ha to urban land.\n",
      "* 0 ha of rainfed cropland to forest, 219 ha to irrigated cropland, and 368 ha to urban land.\n",
      "* 0 ha of irrigated cropland to urban land.\n",
      "The land will then support 1268 jobs.\n"
     ]
    }
   ],
   "source": [
    "# Let's report on our results:\n",
    "print(\"The optimal reclassification plan is to transform:\")\n",
    "print(\"*\", int(round(FR*10,0)), \"ha of forest to rainfed cropland,\", int(round(FI*10,0)), \"ha to irrigated cropland, and\", int(round(FU*10,0)), \"ha to urban land.\")\n",
    "print(\"*\", int(round(RF*10,0)), \"ha of rainfed cropland to forest,\", int(round(RI*10,0)), \"ha to irrigated cropland, and\", int(round(RU*10,0)), \"ha to urban land.\")\n",
    "print(\"*\", int(round(IU*10,0)), \"ha of irrigated cropland to urban land.\")\n",
    "print(\"The land will then support\", int(round(E,0)), \"jobs.\")"
   ]
  },
  {
   "cell_type": "code",
   "execution_count": 5,
   "metadata": {
    "scrolled": true
   },
   "outputs": [
    {
     "name": "stdout",
     "output_type": "stream",
     "text": [
      "The land currently supports 483 jobs.\n",
      "This means that 785 jobs could be created with this reclassification scheme.\n"
     ]
    }
   ],
   "source": [
    "# We can compare this to the current number of jobs supported by the land to see how many jobs could be created:\n",
    "current_jobs = -objective_coeffs[0]*eq_constraint_consts[0] - objective_coeffs[1]*eq_constraint_consts[1] - objective_coeffs[2]*eq_constraint_consts[2]\n",
    "print(\"The land currently supports\", int(round(current_jobs,0)), \"jobs.\")\n",
    "print(\"This means that\", int(round(E,0)-round(current_jobs,0)), \"jobs could be created with this reclassification scheme.\")"
   ]
  },
  {
   "cell_type": "markdown",
   "metadata": {},
   "source": [
    "## Conclusions"
   ]
  },
  {
   "cell_type": "markdown",
   "metadata": {},
   "source": [
    "We have applied the linear programming techniques to the land use planning problem."
   ]
  },
  {
   "cell_type": "markdown",
   "metadata": {},
   "source": [
    "## Credits\n",
    "### Contributors:\n",
    "The following individuals have contributed to these teaching materials: Thomas Evans, [Huanfa Chen](huanfa.chen@ucl.ac.uk)\n",
    "\n",
    "### License\n",
    "These teaching materials are licensed under a mix of The MIT License and the Creative Commons Attribution-NonCommercial-ShareAlike 4.0 license.\n",
    "\n",
    "### Acknowledgements\n",
    "NA\n",
    "\n",
    "### Dependencies\n",
    "This notebook depends on the following libraries: pandas, matplotlib, numpy, scipy"
   ]
  }
 ],
 "metadata": {
  "kernelspec": {
   "display_name": "Python (base)",
   "language": "python",
   "name": "base"
  },
  "language_info": {
   "codemirror_mode": {
    "name": "ipython",
    "version": 3
   },
   "file_extension": ".py",
   "mimetype": "text/x-python",
   "name": "python",
   "nbconvert_exporter": "python",
   "pygments_lexer": "ipython3",
   "version": "3.11.9"
  },
  "toc": {
   "base_numbering": 1,
   "nav_menu": {},
   "number_sections": true,
   "sideBar": true,
   "skip_h1_title": false,
   "title_cell": "Table of Contents",
   "title_sidebar": "Contents",
   "toc_cell": false,
   "toc_position": {},
   "toc_section_display": true,
   "toc_window_display": false
  },
  "vscode": {
   "interpreter": {
    "hash": "d4d1e4263499bec80672ea0156c357c1ee493ec2b1c70f0acce89fc37c4a6abe"
   }
  }
 },
 "nbformat": 4,
 "nbformat_minor": 4
}
