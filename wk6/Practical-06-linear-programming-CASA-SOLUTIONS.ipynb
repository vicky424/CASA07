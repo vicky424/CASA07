{
 "cells": [
  {
   "cell_type": "markdown",
   "metadata": {},
   "source": [
    "<div style=\"float:left\">\n",
    "            <h1 style=\"width:450px\">CASA0007 Practical 6: Linear Programming</h1>\n",
    "</div>\n",
    "<div style=\"float:right\"><img width=\"100\" src=\"https://github.com/jreades/i2p/raw/master/img/casa_logo.jpg\" /></div>"
   ]
  },
  {
   "cell_type": "markdown",
   "metadata": {},
   "source": [
    "This notebook is the solutions to Exercises in the CASA notebook."
   ]
  },
  {
   "cell_type": "markdown",
   "metadata": {},
   "source": [
    "## Linear Programming in Python - Solutions to Exercises"
   ]
  },
  {
   "cell_type": "code",
   "execution_count": 1,
   "metadata": {},
   "outputs": [],
   "source": [
    "import scipy.optimize as spo"
   ]
  },
  {
   "cell_type": "code",
   "execution_count": 2,
   "metadata": {
    "collapsed": true,
    "jupyter": {
     "outputs_hidden": true
    }
   },
   "outputs": [],
   "source": [
    "# The documentation for scipy.optimize.linprog is here:\n",
    "# https://docs.scipy.org/doc/scipy-0.18.1/reference/generated/scipy.optimize.linprog.html"
   ]
  },
  {
   "cell_type": "markdown",
   "metadata": {},
   "source": [
    "### Exercise 7.1\n",
    "\n",
    "a) Andy must check each mug and pencil to ensure quality remains high. Checking a piece of merchandise takes only 1 minute, but Andy is very busy and only has 60 minutes to check merchandise each week. Alter the code to include Andy's quality control stage.\n",
    "\n",
    "b) CASA also makes sweets. Adam takes 2 minutes to make a sweet, Elsa takes 3 minutes to paint the CASA logo on to the packaging, and Andy can check sweets in just 30 seconds. A sweet can be sold for a profit of 8 pence. Alter the code to include sweet making."
   ]
  },
  {
   "cell_type": "code",
   "execution_count": 2,
   "metadata": {},
   "outputs": [
    {
     "name": "stdout",
     "output_type": "stream",
     "text": [
      "Running HiGHS 1.2.0 [date: 2021-07-09, git hash: n/a]\n",
      "Copyright (c) 2022 ERGO-Code under MIT licence terms\n",
      "\n",
      "The optimal production schedule is to make 36.0 mugs and 24.0 pencils.\n",
      "This will make £68.4 of profit.\n",
      "Presolving model\n",
      "3 rows, 2 cols, 6 nonzeros\n",
      "3 rows, 2 cols, 6 nonzeros\n",
      "Presolve : Reductions: rows 3(-0); columns 2(-0); elements 6(-0) - Not reduced\n",
      "Problem not reduced by presolve: solving the LP\n",
      "Using EKK dual simplex solver - serial\n",
      "  Iteration        Objective     Infeasibilities num(sum)\n",
      "          0    -3.8749949017e-01 Ph1: 3(9.25); Du: 2(0.387499) 0s\n",
      "          3    -6.8400000000e+01 Pr: 0(0) 0s\n",
      "Model   status      : Optimal\n",
      "Simplex   iterations: 3\n",
      "Objective value     : -6.8400000000e+01\n",
      "HiGHS run time      :          0.02\n"
     ]
    }
   ],
   "source": [
    "# 7.1(a)\n",
    "\n",
    "# No change to the objective function (profits unchanged)\n",
    "objective_coeffs_71a  = [-1.3,-0.9] # 目标函数系数\n",
    "\n",
    "# Andy has his own constraint:\n",
    "# x + y ≤ 60\n",
    "# represented as a new row in the constraint matrix...\n",
    "constraint_coeffs_71a = [[50,25],\n",
    "                         [30,35],\n",
    "                         [ 1, 1]] # 约束矩阵 ：50x+25y ≤ a; 30x+35y ≤ b; x+y ≤ c\n",
    "\n",
    "# ... and a new value in this vector:\n",
    "constraint_consts_71a = [2400,2100,60] # abc 分别为2400; 2100; 60\n",
    "\n",
    "# x,y 取值范围\n",
    "x_bounds_71a = (0,None)\n",
    "y_bounds_71a = (0,None)\n",
    "\n",
    "# 使用 scipy.optimize.linprog 函数求解线性规划问题\n",
    "# 分别传入目标函数系数、不等式约束的左侧矩阵和右侧常数，取值范围\n",
    "# disp=True，求解过程中的信息和求解结果的状态会被打印出来\n",
    "results = spo.linprog(objective_coeffs_71a, A_ub=constraint_coeffs_71a, b_ub=constraint_consts_71a, bounds=(x_bounds_71a, y_bounds_71a),options={\"disp\": True})\n",
    "\n",
    "# Store relevant values:\n",
    "x, y = results['x']  # 提取出最优解的变量值\n",
    "P = -results['fun']  # 提取出最优目标函数值\n",
    "\n",
    "# Report results:\n",
    "print()\n",
    "print(\"The optimal production schedule is to make\", x, \"mugs and\", y, \"pencils.\")\n",
    "print(\"This will make £\" + str(round(P,2)) + \" of profit.\")"
   ]
  },
  {
   "cell_type": "code",
   "execution_count": 4,
   "metadata": {},
   "outputs": [
    {
     "name": "stdout",
     "output_type": "stream",
     "text": [
      "Running HiGHS 1.2.0 [date: 2021-07-09, git hash: n/a]\n",
      "Copyright (c) 2022 ERGO-Code under MIT licence terms\n",
      "\n",
      "The optimal production schedule is to make 36.00000000000015 mugs, 23.99999999999972 pencils and 0.0 sweets.\n",
      "This will make £68.4 of profit.\n",
      "Presolving model\n",
      "3 rows, 3 cols, 9 nonzeros\n",
      "3 rows, 3 cols, 9 nonzeros\n",
      "Presolve : Reductions: rows 3(-0); columns 3(-0); elements 9(-0) - Not reduced\n",
      "Problem not reduced by presolve: solving the LP\n",
      "Using EKK dual simplex solver - serial\n",
      "  Iteration        Objective     Infeasibilities num(sum)\n",
      "          0    -1.8699966694e+00 Ph1: 3(11); Du: 3(1.87) 0s\n",
      "          4    -6.8400000000e+01 Pr: 0(0) 0s\n",
      "Model   status      : Optimal\n",
      "Simplex   iterations: 4\n",
      "Objective value     : -6.8400000000e+01\n",
      "HiGHS run time      :          0.00\n"
     ]
    }
   ],
   "source": [
    "# 7.1(b)\n",
    "\n",
    "# z = number of sweets produced\n",
    "\n",
    "# Add the profit of a sweet to the objective function:\n",
    "# P = 1.3x + 0.9y + 0.08z\n",
    "objective_coeffs_71b  = [-1.3,-0.9,-0.08]  # 多一个变量多一个系数\n",
    "\n",
    "# The time taken for each participant to work on a sweet must be added to the constraints:\n",
    "# 50x + 25y + 2z ≤ 2400 (Adam)  \n",
    "# 30x + 35y + 3z ≤ 2100 (Elsa)\n",
    "# x + y + 0.5z ≤ 60 (Andy)\n",
    "constraint_coeffs_71b = [[50,25,2  ],\n",
    "                         [30,35,3  ],\n",
    "                         [ 1, 1,0.5]]\n",
    "\n",
    "# No change to this constraint vector though:\n",
    "constraint_consts_71b = [2400,2100,60]\n",
    "\n",
    "# Bounds for z the same as for x and y:\n",
    "x_bounds_71b = (0,None)\n",
    "y_bounds_71b = (0,None)\n",
    "z_bounds_71b = (0,None)\n",
    "\n",
    "# Perform linear optimisation:\n",
    "results = spo.linprog(objective_coeffs_71b, A_ub=constraint_coeffs_71b, b_ub=constraint_consts_71b, bounds=(x_bounds_71b, y_bounds_71b, z_bounds_71b),options={\"disp\": True})\n",
    "\n",
    "# Store relevant values:\n",
    "x, y, z = results['x']\n",
    "P = -results['fun']\n",
    "\n",
    "# Report results:\n",
    "print()\n",
    "print(\"The optimal production schedule is to make\", x, \"mugs,\", y, \"pencils and\", z, \"sweets.\")\n",
    "print(\"This will make £\" + str(round(P,2)) + \" of profit.\")"
   ]
  },
  {
   "cell_type": "markdown",
   "metadata": {},
   "source": [
    "### Exercise 7.2\n",
    "\n",
    "(Very, very loosely adapted from http://aetos.it.teithe.gr/~vkostogl/en/files/Educational%20material/SGGW_2016/Linear%20Programming_exercises.pdf)\n",
    "\n",
    "A cargo ship can store a maximum of 1200 tonnes of goods and has a capacity of 4200 cubic metres. You can transport containers of rum (20 tonnes, 50 cubic metres) and containers of glassware (16 tonnes, 70 cubic metres). Each container of rum sells for a profit of £28000, each container of glassware sells for a profit of £36000.\n",
    "\n",
    "a) Represent all the information as a linear programming problem.\n",
    "\n",
    "b) Solve the problem to determine how many containers of rum and how many containers of glassware you should transport to maximise your profit?"
   ]
  },
  {
   "cell_type": "markdown",
   "metadata": {},
   "source": [
    "#### 7.2(a)\n",
    "\n",
    "Maximise:  \n",
    "P = 28000x + 36000y\n",
    "\n",
    "Subject to:  \n",
    "20x + 16y ≤ 1200 (mass constraint)  \n",
    "50x + 70y ≤ 4200 (capacity constraint)  \n",
    "x ≥ 0  \n",
    "y ≥ 0\n",
    "\n",
    "Where:  \n",
    "x = Number of containers of rum \n",
    "y = Number of containers of glassware\n",
    "P = Profit (£)"
   ]
  },
  {
   "cell_type": "code",
   "execution_count": 5,
   "metadata": {},
   "outputs": [
    {
     "name": "stdout",
     "output_type": "stream",
     "text": [
      "Running HiGHS 1.2.0 [date: 2021-07-09, git hash: n/a]\n",
      "Copyright (c) 2022 ERGO-Code under MIT licence terms\n",
      "\n",
      "The optimal cargo is  28.0 containers of rum and 40.0 containers of glassware.\n",
      "This will make £2224000.0 of profit.\n",
      "Presolving model\n",
      "2 rows, 2 cols, 4 nonzeros\n",
      "2 rows, 2 cols, 4 nonzeros\n",
      "Presolve : Reductions: rows 2(-0); columns 2(-0); elements 4(-0) - Not reduced\n",
      "Problem not reduced by presolve: solving the LP\n",
      "Using EKK dual simplex solver - serial\n",
      "  Iteration        Objective     Infeasibilities num(sum)\n",
      "          0    -1.9999984803e+03 Ph1: 2(4.125); Du: 2(2000) 0s\n",
      "          2    -2.2240000000e+06 Pr: 0(0) 0s\n",
      "Model   status      : Optimal\n",
      "Simplex   iterations: 2\n",
      "Objective value     : -2.2240000000e+06\n",
      "HiGHS run time      :          0.00\n"
     ]
    }
   ],
   "source": [
    "# 7.2(b)\n",
    "\n",
    "objective_coeffs_72b  = [-28000,-36000]\n",
    "\n",
    "constraint_coeffs_72b = [[20,16],\n",
    "                         [50,70]]\n",
    "\n",
    "constraint_consts_72b = [1200,4200]\n",
    "\n",
    "x_bounds_72b = (0,None)\n",
    "y_bounds_72b = (0,None)\n",
    "\n",
    "results = spo.linprog(objective_coeffs_72b, A_ub=constraint_coeffs_72b, b_ub=constraint_consts_72b, bounds=(x_bounds_72b, y_bounds_72b),options={\"disp\": True})\n",
    "\n",
    "x, y = results['x']\n",
    "P = -results['fun']\n",
    "\n",
    "print()\n",
    "print(\"The optimal cargo is \", x, \"containers of rum and\", y, \"containers of glassware.\")\n",
    "print(\"This will make £\" + str(round(P,2)) + \" of profit.\")"
   ]
  },
  {
   "cell_type": "markdown",
   "metadata": {},
   "source": [
    "### Exercise 7.3 (Harder, optional)\n",
    "(Adapted from http://www.durban.gov.za/documents/city_government/maths_science_technology_programme/mathematics-newsletter.pdf - similar to the example with the farmer.)\n",
    "\n",
    "(You may want to go through the **land use notebook** and then come back to this exercise)\n",
    "\n",
    "A property developer has 80 hectares for building luxury homes and affordable homes. She must allocate at least 10 hectares to luxury homes, while local planning rules oblige her to allocate at least a quarter of developed land to affordable homes. She would prefer to construct more affordable homes than luxury homes, but her investors will only allow her to allocate a maximum of three times the amount of land to affordable homes as to luxury homes. Note that the allocation can be float numbers, e.g. 0.1 hectares.\n",
    "\n",
    "a) Sketch a graph including all the constraints to determine the feasible region.\n",
    "\n",
    "The developer can make a profit of £8m per hectare on luxury homes and £5m per hectare on affordable homes.\n",
    "\n",
    "b) Represent all the information as a linear programming problem.\n",
    "\n",
    "c) Solve the problem to show how much land the developer should allocate to each type of housing to maximise her profit and find the value of that maximum profit."
   ]
  },
  {
   "cell_type": "markdown",
   "metadata": {},
   "source": [
    "#### 7.3\n",
    "\n",
    "Maximise:  \n",
    "P = 8000000x + 5000000y\n",
    "\n",
    "Subject to:  \n",
    "x + y ≤ 80 (total area constraint)  \n",
    "x ≥ 10 (min luxury homes)  \n",
    "0.25x - 0.75y ≤ 0 (local planning rules constraint) [Rearranged from y ≥ 0.25(x + y)]  \n",
    "-3x + y ≤ 0 (investor demands constraint) [Rearranged from y ≤ 3x]\n",
    "y ≥ 0 (non-negativity constraint)\n",
    "\n",
    "Where:  \n",
    "x = Area of luxury homes (ha)  \n",
    "y = Area of affordable homes (ha)  \n",
    "P = Profit (£)"
   ]
  },
  {
   "cell_type": "code",
   "execution_count": 6,
   "metadata": {},
   "outputs": [
    {
     "data": {
      "image/png": "[encoded data removed]",
      "text/plain": [
       "<Figure size 432x288 with 1 Axes>"
      ]
     },
     "metadata": {
      "needs_background": "light"
     },
     "output_type": "display_data"
    }
   ],
   "source": [
    "# 7.3(a)\n",
    "\n",
    "# This is what the sketch should look like:\n",
    "# (Don't worry about understanding these plotting commands...\n",
    "# ... you were expected to sketch this by hand.)\n",
    "\n",
    "import matplotlib.pyplot as plt\n",
    "%matplotlib inline\n",
    "\n",
    "# x + y ≤ 80 (blue)\n",
    "x1vals = [0,80]\n",
    "y1vals = [80,0]\n",
    "\n",
    "# x ≥ 10 (red)\n",
    "x2vals = [10,10]\n",
    "y2vals = [0,120]\n",
    "\n",
    "# 0.25x - 0.75y ≤ 0 (green)\n",
    "x3vals = [0,120]\n",
    "y3vals = [0,40]\n",
    "\n",
    "# -3x + y ≤ 0 (magenta)\n",
    "x4vals = [0,40]\n",
    "y4vals = [0,120]\n",
    "\n",
    "plt.figure(1)\n",
    "plt.gca().set_aspect('equal')\n",
    "dummy = plt.plot(x1vals,y1vals,'b--',x2vals,y2vals,'r--',x3vals,y3vals,'g--',x4vals,y4vals,'m--')\n",
    "\n",
    "# Note that, in this plot, the feasible region is the large quadrilateral in the centre."
   ]
  },
  {
   "cell_type": "code",
   "execution_count": 7,
   "metadata": {},
   "outputs": [
    {
     "name": "stdout",
     "output_type": "stream",
     "text": [
      "Running HiGHS 1.2.2 [date: 2022-08-30, git hash: n/a]\n",
      "Copyright (c) 2022 ERGO-Code under MIT licence terms\n",
      "\n",
      "The optimal land allocation is  60.0 ha of luxury homes and 20.0 ha of affordable homes.\n",
      "This will make £580 million of profit.\n",
      "Presolving model\n",
      "3 rows, 2 cols, 6 nonzeros\n",
      "3 rows, 2 cols, 6 nonzeros\n",
      "Presolve : Reductions: rows 3(-0); columns 2(-0); elements 6(-0) - Not reduced\n",
      "Problem not reduced by presolve: solving the LP\n",
      "Using EKK dual simplex solver - serial\n",
      "  Iteration        Objective     Infeasibilities num(sum)\n",
      "          0     0.0000000000e+00 Ph1: 0(0) 0s\n",
      "          2    -5.8000000000e+02 Pr: 0(0) 0s\n",
      "Model   status      : Optimal\n",
      "Simplex   iterations: 2\n",
      "Objective value     : -5.8000000000e+02\n",
      "HiGHS run time      :          0.00\n",
      "WARNING: Method getModelStatus(const bool scaled_model) is deprecated: alternative method is getModelStatus()\n"
     ]
    }
   ],
   "source": [
    "# 7.3(b)\n",
    "\n",
    "objective_coeffs_73  = [-8,-5] # Expressed in millions\n",
    "\n",
    "constraint_coeffs_73 = [[1,1],\n",
    "                        [0.25,-0.75],\n",
    "                        [-3,1]]\n",
    "\n",
    "constraint_consts_73 = [80,0,0]\n",
    "\n",
    "x_bounds_73 = (10,80)\n",
    "y_bounds_73 = (0,80)\n",
    "\n",
    "results = spo.linprog(objective_coeffs_73, A_ub=constraint_coeffs_73, b_ub=constraint_consts_73, bounds=(x_bounds_73, y_bounds_73),options={\"disp\": True})\n",
    "\n",
    "x, y = results['x']\n",
    "P = -results['fun']\n",
    "\n",
    "print()\n",
    "print(\"The optimal land allocation is \", x, \"ha of luxury homes and\", y, \"ha of affordable homes.\")\n",
    "print(\"This will make £\" + str(int(round(P,0))), \"million of profit.\")"
   ]
  },
  {
   "cell_type": "markdown",
   "metadata": {},
   "source": [
    "## Credits\n",
    "### Contributors:\n",
    "The following individuals have contributed to these teaching materials: Thomas Evans, [Huanfa Chen](huanfa.chen@ucl.ac.uk)\n",
    "\n",
    "### License\n",
    "These teaching materials are licensed under a mix of The MIT License and the Creative Commons Attribution-NonCommercial-ShareAlike 4.0 license.\n",
    "\n",
    "### Acknowledgements\n",
    "NA\n",
    "\n",
    "### Dependencies\n",
    "This notebook depends on the following libraries: pandas, matplotlib, numpy, scipy"
   ]
  }
 ],
 "metadata": {
  "kernelspec": {
   "display_name": "Python (base)",
   "language": "python",
   "name": "base"
  },
  "language_info": {
   "codemirror_mode": {
    "name": "ipython",
    "version": 3
   },
   "file_extension": ".py",
   "mimetype": "text/x-python",
   "name": "python",
   "nbconvert_exporter": "python",
   "pygments_lexer": "ipython3",
   "version": "3.11.9"
  },
  "toc": {
   "base_numbering": 1,
   "nav_menu": {},
   "number_sections": true,
   "sideBar": true,
   "skip_h1_title": false,
   "title_cell": "Table of Contents",
   "title_sidebar": "Contents",
   "toc_cell": false,
   "toc_position": {},
   "toc_section_display": true,
   "toc_window_display": false
  },
  "vscode": {
   "interpreter": {
    "hash": "d4d1e4263499bec80672ea0156c357c1ee493ec2b1c70f0acce89fc37c4a6abe"
   }
  }
 },
 "nbformat": 4,
 "nbformat_minor": 4
}
