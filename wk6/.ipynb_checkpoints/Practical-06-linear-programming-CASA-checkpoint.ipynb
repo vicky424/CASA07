{
 "cells": [
  {
   "cell_type": "markdown",
   "metadata": {},
   "source": [
    "<div style=\"float:left\">\n",
    "            <h1 style=\"width:450px\">CASA0007 Practical 6: Linear Programming</h1>\n",
    "</div>\n",
    "<div style=\"float:right\"><img width=\"100\" src=\"https://github.com/jreades/i2p/raw/master/img/casa_logo.jpg\" /></div>"
   ]
  },
  {
   "cell_type": "markdown",
   "metadata": {},
   "source": [
    "Welcome!\n",
    "\n",
    "In this practical, we will apply the linear programming techniques to solve the CASA mugs and pencils problem.\n",
    "\n",
    "- Solve the linear programming (LP) problem in CASA;\n",
    "- Learn the techniques of LP;\n",
    "- Apply the LP techniques to multiple problems."
   ]
  },
  {
   "cell_type": "markdown",
   "metadata": {},
   "source": [
    "## Import packages"
   ]
  },
  {
   "cell_type": "markdown",
   "metadata": {},
   "source": [
    "We'll need the scipy.optimize package. The documentation is [here](https://docs.scipy.org/doc/scipy/reference/generated/scipy.optimize.linprog.html)."
   ]
  },
  {
   "cell_type": "code",
   "execution_count": 1,
   "metadata": {},
   "outputs": [],
   "source": [
    "import scipy.optimize as spo"
   ]
  },
  {
   "cell_type": "markdown",
   "metadata": {},
   "source": [
    "## Formulate the problem\n",
    "\n",
    "This is the linear programming problem we're trying to solve...\n",
    "\n",
    "Adam makes a mug in 50 minutes and a pencil in 25 minutes.  \n",
    "Elsa paints the CASA logo on to a mug in 30 minutes and a pencil in 35 minutes.\n",
    "\n",
    "Adam has 2400 minutes per week to produce CASA merchandise, while Elsa has 2100 minutes per week.\n",
    "\n",
    "The profit on a mug is £1.30, the profit on a pencil is £0.90.\n",
    "\n",
    "How many mugs and pencils should be made in a week to maximise CASA's profit?\n",
    "\n",
    "(Adapted from http://people.brunel.ac.uk/~mastjjb/jeb/or/morelp.html, J. E. Beasley)"
   ]
  },
  {
   "cell_type": "markdown",
   "metadata": {},
   "source": [
    "#### And here is the problem written as a linear program:\n",
    "\n",
    "Maximise:  \n",
    "P = 1.3x + 0.9y\n",
    "\n",
    "Subject to:  \n",
    "50x + 25y ≤ 2400 (Adam)  \n",
    "30x + 35y ≤ 2100 (Elsa)  \n",
    "x ≥ 0  \n",
    "y ≥ 0\n",
    "\n",
    "Where:  \n",
    "x = Number of mugs  \n",
    "y = Number of pencils  \n",
    "P = Profit (£)"
   ]
  },
  {
   "cell_type": "code",
   "execution_count": 2,
   "metadata": {},
   "outputs": [],
   "source": [
    "# We need to store all the relevant information in this problem.\n",
    "# First the numbers from the objective function.\n",
    "# There's one catch. Python expects a MINIMISATION problem, but we want to MAXIMISE.\n",
    "# This is easy to fix though, we'll just make the coefficients in the objective function (1.3 and 0.9) negative:\n",
    "\n",
    "objective_coeffs = [-1.3,-0.9]\n",
    "\n",
    "# Next the constraints\n",
    "# We have to put the x and y coefficients into one array:\n",
    "\n",
    "constraint_coeffs = [[50,25],\n",
    "                     [30,35]]\n",
    "\n",
    "# And the constants (2400 and 2100) into a separate list:\n",
    "\n",
    "constraint_consts = [2400,2100]\n",
    "\n",
    "# Make sure everything stays in the right order!"
   ]
  },
  {
   "cell_type": "code",
   "execution_count": 3,
   "metadata": {},
   "outputs": [],
   "source": [
    "# Note that we haven't worried about the constraints x >= 0 and y >= 0.\n",
    "# That's because scipy.optimize will assume that anyway.\n",
    "# However, we could specify bounds on x and y like this:\n",
    "\n",
    "x_bounds = (0,None) # i.e. x must be >= 0, but has no upper bound\n",
    "y_bounds = (0,None) # ditto y\n",
    "\n",
    "# We'll stick these into the function just to show how to use them...\n",
    "# (in some other example you might need x >= 3 or whatever)"
   ]
  },
  {
   "cell_type": "markdown",
   "metadata": {},
   "source": [
    "Now we're ready to do the optimisation"
   ]
  },
  {
   "cell_type": "code",
   "execution_count": 4,
   "metadata": {},
   "outputs": [
    {
     "name": "stdout",
     "output_type": "stream",
     "text": [
      "x =Running HiGHS 1.2.2 [date: 2022-08-30, git hash: n/a]\n",
      "Copyright (c) 2022 ERGO-Code under MIT licence terms\n",
      "Presolving model\n",
      "2 rows, 2 cols, 4 nonzeros\n",
      "2 rows, 2 cols, 4 nonzeros\n",
      "Objective function is integral with scale 10\n",
      "\n",
      "Solving MIP model with:\n",
      "   2 rows\n",
      "   2 cols (0 binary, 2 integer, 0 implied int., 0 continuous)\n",
      "   4 nonzeros\n",
      "\n",
      "        Nodes      |    B&B Tree     |            Objective Bounds              |  Dynamic Constraints |       Work      \n",
      "     Proc. InQueue |  Leaves   Expl. | BestBound       BestSol              Gap |   Cuts   InLp Confl. | LpIters     Time\n",
      "\n",
      "         0       0         0   0.00%   -116.4          inf                  inf        0      0      0         0     0.0s\n",
      " S       0       0         0   0.00%   -116.4          -70               66.29%        0      0      0         0     0.0s\n",
      " T       0       0         0   0.00%   -70.65          -70.4              0.36%        0      0      0         3     0.0s\n",
      "\n",
      "Solving report\n",
      "  Status            Optimal\n",
      "  Primal bound      -70.4\n",
      "  Dual bound        -70.4\n",
      "  Gap               0% (tolerance: 0.01%)\n",
      "  Solution status   fea 32.00000000000001\n",
      "y = 32.0\n",
      "P = 70.4\n",
      "sible\n",
      "                    -70.4 (objective)\n",
      "                    0 (bound viol.)\n",
      "                    7.1054273576e-15 (int. viol.)\n",
      "                    0 (row viol.)\n",
      "  Timing            0.00 (total)\n",
      "                    0.00 (presolve)\n",
      "                    0.00 (postsolve)\n",
      "  Nodes             1\n",
      "  LP iterations     3 (total)\n",
      "                    0 (strong br.)\n",
      "                    0 (separation)\n",
      "                    0 (heuristics)\n",
      "WARNING: Method getModelStatus(const bool scaled_model) is deprecated: alternative method is getModelStatus()\n"
     ]
    }
   ],
   "source": [
    "results = spo.linprog(objective_coeffs, A_ub=constraint_coeffs, b_ub=constraint_consts, integrality=[1, 1], bounds=(x_bounds, y_bounds),options={\"disp\": True})\n",
    "\n",
    "# The constraints are expressed as A_ub * [x, y] < b_ub. Here, * means dot product (between a matrix and a vector)\n",
    "# Integrality=[1,1] means that both x and y should be integer\n",
    "# bounds=[x_bounds, y_bounds] specifies the bounds of x and y \n",
    "# The options={\"disp\": True} bit is just so it will show you an error message if everything fails, or \n",
    "# ... if there is no solution or the problem is too complicated for the computer, for example, which is possible.\n",
    "\n",
    "# In addition, if there are equal constraints in the LP problem, these constraints should be described using the parameters of A_eq and b_eq\n",
    "\n",
    "# Storing the output as \"results\" is necessary.\n",
    "# scipy.optimize.linprog spits out a special sort of object, so...\n",
    "# ... we have to store it and then get the information we need like so:\n",
    "\n",
    "# The optimal values of x and y:\n",
    "# (Note that 'x' just gives us all the variables)\n",
    "x, y = results['x']\n",
    "print(\"x =\", x)\n",
    "print(\"y =\", y)\n",
    "\n",
    "# The optimal value of the objective function (i.e. our best possible profit):\n",
    "# (Note that because we had to make the objective coefficients negative...\n",
    "# ... the profit will come out negative as well, unless we put a minus sign in.)\n",
    "P = -results['fun']\n",
    "print(\"P =\", P)\n"
   ]
  },
  {
   "cell_type": "markdown",
   "metadata": {},
   "source": [
    "In the result, x=32.00000000000001 is not an integer - this is a numerical issue. We can round x to 32."
   ]
  },
  {
   "cell_type": "code",
   "execution_count": 5,
   "metadata": {},
   "outputs": [
    {
     "name": "stdout",
     "output_type": "stream",
     "text": [
      "The optimal production schedule is to make 32 mugs and 32 pencils.\n",
      "This will make £70.4 of profit.\n"
     ]
    }
   ],
   "source": [
    "# \n",
    "# (But if you're not happy with this, see the bottom of the workbook for a more complete examination.)\n",
    "\n",
    "# So let's report on our results:\n",
    "print(\"The optimal production schedule is to make {} mugs and {} pencils.\".format(int(x), int(y)))\n",
    "print(\"This will make £{} of profit.\".format(str(round(P,2))))"
   ]
  },
  {
   "cell_type": "markdown",
   "metadata": {},
   "source": [
    "## More exercises\n",
    "\n",
    "### Exercise 7.1\n",
    "\n",
    "a) Andy must check each mug and pencil to ensure quality remains high. Checking a piece of merchandise takes only 1 minute, but Andy is very busy and only has 60 minutes to check merchandise each week. Alter the code to include Andy's quality control stage.\n",
    "\n",
    "b) CASA also makes sweets. Adam takes 2 minutes to make a sweet, Elsa takes 3 minutes to paint the CASA logo on to the packaging, and Andy can check sweets in just 30 seconds. A sweet can be sold for a profit of 8 pence. Alter the code to include sweet making."
   ]
  },
  {
   "cell_type": "code",
   "execution_count": null,
   "metadata": {},
   "outputs": [],
   "source": []
  },
  {
   "cell_type": "markdown",
   "metadata": {},
   "source": [
    "### Exercise 7.2\n",
    "\n",
    "(Loosely adapted from http://aetos.it.teithe.gr/~vkostogl/en/files/Educational%20material/SGGW_2016/Linear%20Programming_exercises.pdf)\n",
    "\n",
    "A cargo ship can store a maximum of 1200 tonnes of goods and has a capacity of 4200 cubic metres. You can transport containers of rum (20 tonnes, 50 cubic metres) and containers of glassware (16 tonnes, 70 cubic metres). Each container of rum sells for a profit of £28000, each container of glassware sells for a profit of £36000.\n",
    "\n",
    "a) Represent all the information as a linear programming problem.\n",
    "\n",
    "b) Solve the problem to determine how many containers of rum and how many containers of glassware you should transport to maximise your profit?"
   ]
  },
  {
   "cell_type": "code",
   "execution_count": null,
   "metadata": {},
   "outputs": [],
   "source": []
  },
  {
   "cell_type": "markdown",
   "metadata": {},
   "source": [
    "### Exercise 7.3 (Harder, optional)\n",
    "(Adapted from http://www.durban.gov.za/documents/city_government/maths_science_technology_programme/mathematics-newsletter.pdf - similar to the example with the farmer.)\n",
    "\n",
    "(You may want to go through the **land use notebook** and then come back to this exercise)\n",
    "\n",
    "A property developer has 80 hectares for building luxury homes and affordable homes. She must allocate at least 10 hectares to luxury homes, while local planning rules oblige her to allocate at least a quarter of developed land to affordable homes. She would prefer to construct more affordable homes than luxury homes, but her investors will only allow her to allocate a maximum of three times the amount of land to affordable homes as to luxury homes. Note that the allocation can be float numbers, e.g. 0.1 hectares.\n",
    "\n",
    "a) Sketch a graph including all the constraints to determine the feasible region.\n",
    "\n",
    "The developer can make a profit of £8m per hectare on luxury homes and £5m per hectare on affordable homes.\n",
    "\n",
    "b) Represent all the information as a linear programming problem.\n",
    "\n",
    "c) Solve the problem to show how much land the developer should allocate to each type of housing to maximise her profit and find the value of that maximum profit."
   ]
  },
  {
   "cell_type": "code",
   "execution_count": null,
   "metadata": {},
   "outputs": [],
   "source": []
  },
  {
   "cell_type": "markdown",
   "metadata": {},
   "source": [
    "## Conclusions"
   ]
  },
  {
   "cell_type": "markdown",
   "metadata": {},
   "source": [
    "We have applied the linear programming techniques to the CASA merchandising problem (and several extended problems).\n",
    "\n",
    "These techniques can be generalised to a wide range of applications, from land use planning to facility location selection, and so on."
   ]
  },
  {
   "cell_type": "markdown",
   "metadata": {},
   "source": [
    "## Credits\n",
    "### Contributors:\n",
    "The following individuals have contributed to these teaching materials: Thomas Evans, [Huanfa Chen](huanfa.chen@ucl.ac.uk)\n",
    "\n",
    "### License\n",
    "These teaching materials are licensed under a mix of The MIT License and the Creative Commons Attribution-NonCommercial-ShareAlike 4.0 license.\n",
    "\n",
    "### Acknowledgements\n",
    "NA\n",
    "\n",
    "### Dependencies\n",
    "This notebook depends on the following libraries: pandas, matplotlib, numpy, scipy"
   ]
  }
 ],
 "metadata": {
  "kernelspec": {
   "display_name": "Python 3.10.5 ('base')",
   "language": "python",
   "name": "python3"
  },
  "language_info": {
   "codemirror_mode": {
    "name": "ipython",
    "version": 3
   },
   "file_extension": ".py",
   "mimetype": "text/x-python",
   "name": "python",
   "nbconvert_exporter": "python",
   "pygments_lexer": "ipython3",
   "version": "3.10.5"
  },
  "toc": {
   "base_numbering": 1,
   "nav_menu": {},
   "number_sections": true,
   "sideBar": true,
   "skip_h1_title": false,
   "title_cell": "Table of Contents",
   "title_sidebar": "Contents",
   "toc_cell": false,
   "toc_position": {},
   "toc_section_display": true,
   "toc_window_display": false
  },
  "vscode": {
   "interpreter": {
    "hash": "d4d1e4263499bec80672ea0156c357c1ee493ec2b1c70f0acce89fc37c4a6abe"
   }
  }
 },
 "nbformat": 4,
 "nbformat_minor": 4
}
